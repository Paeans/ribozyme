{
 "cells": [
  {
   "cell_type": "code",
   "execution_count": 1,
   "metadata": {},
   "outputs": [],
   "source": [
    "import numpy as np\n",
    "\n",
    "from Bio import SeqIO, AlignIO\n",
    "from Bio.SeqRecord import SeqRecord\n",
    "\n",
    "from Bio.Align.Applications import ClustalwCommandline\n",
    "\n",
    "from Bio.Seq import Seq"
   ]
  },
  {
   "cell_type": "code",
   "execution_count": 2,
   "metadata": {},
   "outputs": [],
   "source": [
    "seqs = list(SeqIO.parse('all.fasta', 'fasta'))"
   ]
  },
  {
   "cell_type": "code",
   "execution_count": 4,
   "metadata": {},
   "outputs": [
    {
     "data": {
      "text/plain": [
       "10188"
      ]
     },
     "execution_count": 4,
     "metadata": {},
     "output_type": "execute_result"
    }
   ],
   "source": [
    "len(seqs)"
   ]
  },
  {
   "cell_type": "code",
   "execution_count": 50,
   "metadata": {},
   "outputs": [
    {
     "name": "stdout",
     "output_type": "stream",
     "text": [
      "group_80_spike_0.fasta\n",
      "group_80_spike_1.fasta\n",
      "group_80_spike_2.fasta\n",
      "group_80_spike_3.fasta\n"
     ]
    }
   ],
   "source": [
    "count = 0\n",
    "total = []\n",
    "for i in range(4):\n",
    "    print('group_80_spike_' + str(i) + '.fasta')\n",
    "    group = list(SeqIO.parse('group_80_spike_' + str(i) + '.fasta', 'fasta'))\n",
    "    for record in group:\n",
    "        record.id = 'covid-19-spike-seq-{:06d}'.format(count)\n",
    "        total.append(record)\n",
    "        count += 1"
   ]
  },
  {
   "cell_type": "code",
   "execution_count": 93,
   "metadata": {},
   "outputs": [
    {
     "data": {
      "text/plain": [
       "7655"
      ]
     },
     "execution_count": 93,
     "metadata": {},
     "output_type": "execute_result"
    }
   ],
   "source": [
    "count = 0\n",
    "total = []\n",
    "group = list(SeqIO.parse('group_90_spike.fasta', 'fasta'))\n",
    "for record in group:\n",
    "    if len(record.seq) < 3000:\n",
    "        continue\n",
    "    record.id = 'covid-19-spike-seq-{:06d}'.format(count)\n",
    "    total.append(record)\n",
    "    count += 1\n",
    "    \n",
    "SeqIO.write(total, 'group_90_spike.fasta', 'fasta')"
   ]
  },
  {
   "cell_type": "code",
   "execution_count": 72,
   "metadata": {},
   "outputs": [
    {
     "data": {
      "text/plain": [
       "SeqRecord(seq=Seq('AGTTATGAG-GATCAAGATGCAC----TTTTCGCATA-----TACAAAACGTAA...CTT'), id='covid-19-spike-seq-000000', name='covid-19-spike-seq-000000', description='covid-19-spike-seq-000000 covid-19-gene-seq-000016', dbxrefs=[])"
      ]
     },
     "execution_count": 72,
     "metadata": {},
     "output_type": "execute_result"
    }
   ],
   "source": [
    "group[0]"
   ]
  },
  {
   "cell_type": "code",
   "execution_count": 70,
   "metadata": {},
   "outputs": [
    {
     "data": {
      "text/plain": [
       "756"
      ]
     },
     "execution_count": 70,
     "metadata": {},
     "output_type": "execute_result"
    }
   ],
   "source": [
    "len(total)"
   ]
  },
  {
   "cell_type": "code",
   "execution_count": 53,
   "metadata": {},
   "outputs": [
    {
     "data": {
      "text/plain": [
       "756"
      ]
     },
     "execution_count": 53,
     "metadata": {},
     "output_type": "execute_result"
    }
   ],
   "source": [
    "SeqIO.write(total, 'group_80_spike.fasta', 'fasta')"
   ]
  },
  {
   "cell_type": "code",
   "execution_count": 123,
   "metadata": {},
   "outputs": [
    {
     "name": "stdout",
     "output_type": "stream",
     "text": [
      "covid-19-spike-seq-000009\n"
     ]
    }
   ],
   "source": [
    "spike = list(SeqIO.parse('s_gene.fasta', 'fasta'))[0]\n",
    "\n",
    "records = list(SeqIO.parse('group_90_spike.fasta', 'fasta'))\n",
    "tmp = records[0:20]\n",
    "tmp.append(spike)\n",
    "# for r in records[1:10]:\n",
    "#     tmp = [spike, r]\n",
    "SeqIO.write(tmp, 'tmp.fasta', 'fasta')\n",
    "\n",
    "print(r.id)\n",
    "align_cmd = ClustalwCommandline('clustalw2', infile = 'tmp.fasta')\n",
    "align_stdout, align_stderr = align_cmd()\n",
    "# t = align_stdout.splitlines()\n",
    "# for s in t:\n",
    "#     if s.startswith('Sequences ('):\n",
    "#         print(s) "
   ]
  },
  {
   "cell_type": "code",
   "execution_count": 130,
   "metadata": {},
   "outputs": [],
   "source": [
    "align = AlignIO.read('tmp.aln', 'clustal')\n",
    "tmp = align.column_annotations['clustal_consensus']"
   ]
  },
  {
   "cell_type": "code",
   "execution_count": 131,
   "metadata": {},
   "outputs": [
    {
     "data": {
      "text/plain": [
       "'******************************** ******************** ***** ******** ***   ****** **** ** ** * *** ******** ************************** ********* *** ********* ***** *********** ******** ** ******************** ** ************* *** ************** ** ** ***** ** ***** ** ************************** *********** ***************** ******************** *********************************************************************************   ************************************** ******** ************************** ******************************************************************** ************************** ************** ** ************************** ** *  *******  ********************* ******************************************************* ******************* ****************************************************** ************ ************* ******************************************** ******************** ************** *********** ******** ************************** ************** ** ************** ** **************************** *** ***** ***************** ******** ******************** *** ************** * ******** ** ***** ************************************************** ******** ******** **** ************** ****** ** ***** ******************** ** ********* **************** ** ** ********************  ** ***** * ** *  ** ******* *** ** ** **  *  * ***** **  ******* ***** ******** ***** *********** ** ** ** ** **** *************      *** * ***** ****  **  *  *   ****** **  * ** *** *********** ******* ** ** *************************** **************************** *********** *********** ******************** *********** *********** ** ** ******** *********** ***************** *********** ************** ************************************************************************** ********* * *********************************************************** ******** *********** ************** ** ******************************** ****************** ******* ***** ***************** *********** ******** ************** ********            ********* ** ******** ** ******************************************** *********************** ******************** ***** *********** *********** ******** ***** *********** ******************** ******** ***************** ******** *********** ***************************** ******** ** ************** ***** *********** ** ******************* ********* ******************************************************** *** ********** ************** ***************************************************** ** ** ******** ******** ** ************ **************************** ******************** ***** *********************** ***************** ***************** ***************************************************************** ************** ********** ****************************** ******************************** *********************************************************** ** ***** ** ** *********************** *********************** ***** ************************** ******************************************************** *********************************** ******************************** ***************** ******************************************** *********************************************************************** *********** ** ************************** ***************************** ***** ***************** ******* ****************************************************** *** * ** ***************** ******** ***** ************** ***** ************** *********************** ** ******** ***************************** *** ******************************************* ************************************************************ ******* ** ***************************** ************************** ***** ******************************************************************'"
      ]
     },
     "execution_count": 131,
     "metadata": {},
     "output_type": "execute_result"
    }
   ],
   "source": [
    "tmp"
   ]
  },
  {
   "cell_type": "code",
   "execution_count": 150,
   "metadata": {},
   "outputs": [],
   "source": [
    "annot_list = tmp.strip().split()"
   ]
  },
  {
   "cell_type": "code",
   "execution_count": 151,
   "metadata": {},
   "outputs": [],
   "source": [
    "annot_len = [len(t) for t in annot_list if len(t) >= 15]"
   ]
  },
  {
   "cell_type": "code",
   "execution_count": 152,
   "metadata": {},
   "outputs": [
    {
     "data": {
      "text/plain": [
       "[81,\n",
       " 74,\n",
       " 71,\n",
       " 68,\n",
       " 66,\n",
       " 65,\n",
       " 60,\n",
       " 59,\n",
       " 56,\n",
       " 55,\n",
       " 54,\n",
       " 53,\n",
       " 50,\n",
       " 44,\n",
       " 43,\n",
       " 38,\n",
       " 35,\n",
       " 32,\n",
       " 30,\n",
       " 29,\n",
       " 28,\n",
       " 27,\n",
       " 26,\n",
       " 23,\n",
       " 21,\n",
       " 20,\n",
       " 19,\n",
       " 18,\n",
       " 17,\n",
       " 16]"
      ]
     },
     "execution_count": 152,
     "metadata": {},
     "output_type": "execute_result"
    }
   ],
   "source": [
    "annot_len = np.unique(annot_len)\n",
    "sorted(annot_len, reverse = True)"
   ]
  },
  {
   "cell_type": "code",
   "execution_count": 157,
   "metadata": {},
   "outputs": [
    {
     "name": "stdout",
     "output_type": "stream",
     "text": [
      "ID: NC_045512.2_21563-25384\n",
      "Name: <unknown name>\n",
      "Description: NC_045512.2_21563-25384\n",
      "Number of features: 0\n",
      "Seq('ATGTTTGTTTTTCTTGTTTTATTGCCACTAGTCTCTAGTCAGTGTGTTAATCTT...TAA')\n"
     ]
    }
   ],
   "source": [
    "for t in align:\n",
    "    if t.id == 'NC_045512.2_21563-25384':\n",
    "        print(t)"
   ]
  },
  {
   "cell_type": "code",
   "execution_count": 193,
   "metadata": {},
   "outputs": [],
   "source": [
    "spike = list(SeqIO.parse('s_gene.fasta', 'fasta'))[0]\n",
    "\n",
    "records = list(SeqIO.parse('group_90_spike.fasta', 'fasta'))\n",
    "tmp = records[0:20]\n",
    "tmp.append(spike)\n",
    "SeqIO.write(tmp, 'tmp.fasta', 'fasta')\n",
    "\n",
    "align_cmd = ClustalwCommandline('clustalw2', infile = 'tmp.fasta')\n",
    "align_stdout, align_stderr = align_cmd()\n",
    "\n",
    "align = AlignIO.read('tmp.aln', 'clustal')\n",
    "align_annot = align.column_annotations['clustal_consensus']\n",
    "\n",
    "for t in align:\n",
    "    if t.id == 'NC_045512.2_21563-25384':\n",
    "        break\n",
    "\n",
    "# annot_list = tmp.strip().split()\n",
    "# annot_len = sorted(np.unique([len(t) for t in annot_list if len(t) >= 15]), reverse = True)\n",
    "# cand_list = []\n",
    "# for l in annot_len:\n",
    "#     s_index = 0\n",
    "#     while True:\n",
    "#         index = align_annot.find('*' * l, s_index)\n",
    "#         if index == -1:\n",
    "#             break\n",
    "#         cand_seq = t.seq[index, index + l]\n",
    "#         if cand_seq in cand_list:\n",
    "#             continue\n",
    "#         cand_list.append(cand_seq)\n",
    "#         s_index = index + l\n",
    "\n",
    "tmp = list(t.seq)\n",
    "align_seq = list(t.seq)\n",
    "for i in range(len(align_annot)):\n",
    "    if align_annot[i] != '*':\n",
    "        tmp[i] = ' '\n",
    "        align_seq[i] = '-'\n",
    "        \n",
    "# cand_list = [subseq for subseq in ''.join(tmp).strip().split() if len(subseq) >= 15]"
   ]
  },
  {
   "cell_type": "code",
   "execution_count": 203,
   "metadata": {},
   "outputs": [
    {
     "data": {
      "text/plain": [
       "34"
      ]
     },
     "execution_count": 203,
     "metadata": {},
     "output_type": "execute_result"
    }
   ],
   "source": [
    "cand_seq = []\n",
    "counter = 0\n",
    "for cl in cand_list:\n",
    "    cand_seq.append(SeqRecord(Seq(cl), 'candidate-seq-{:06d}'.format(counter), '', ''))\n",
    "    counter += 1\n",
    "    \n",
    "SeqIO.write(cand_seq, 'cand_seq.fasta', 'fasta')"
   ]
  },
  {
   "cell_type": "code",
   "execution_count": 204,
   "metadata": {},
   "outputs": [
    {
     "data": {
      "text/plain": [
       "'ATGTTTGTTTTT TTG TTTA TGCCACTAGT TCTAGTCA TGTGTTAATCT ACAAC AGAACTCA TTA   CCTGCA A  C AA TC T CAC CGTGGTGT T                      ATC TCAGTTTTA ATT AACTCAGGA T  TT  TACCTTTCTT TCCAATGT AC                      T  GGGAC    GGTA TAA AG TTTGATAACCC GT CT CCATT AA GATGG GT TA TT GCTTCCACTGAGAAGTCTAA AT        G TGGATTTTTGGTACTAC                   TC  TACTTATTGTTAATAACGCTACTAATG TGTTATTAAAGTCTGTGA TTTCAATTTTGTAATGATCCATTTTTGGG                                                                                                                                                                                                                                                                                                                                                                                                                                                                                                                                                                             GATT          ACAAAC    G CCTTTTGGTGAAGTTTTTAAC CCACCA ATT GCATC GTTTATGCTTGGAACAG AAGAGAAT AGCAACTGTGTTGCTGATTA TCT TC  ATATAATTCC C        C AC TTTAA TGTTATGGAG                                                                                                            T            TTATAAA TACCAG TGAT                                                                                                                                                                                                                                                                                                          A AAGTCTACTAA TTGGTTAAAAA AAATGTGTCAATTT AACTT AATGGTTTAA  GGCACAGGTGT CT AC GA    AA AAAAAGT                                       CTACTGATGC GTCCGTGATCCACAGACACTTGAGATTCTTGACATTACACCATGTT TTTTGGTGGTGTCAGTGTTATAACACC GGAACAAAT C TCTAACCAGGTTGCTGTTCTTTATCAGG TGTTAACTGCACAGAAGTCCCTGTTGCTAT CATGCAGA CAACTTACTCC ACTTGGCGTGTTTA TC ACAGGTTCTAATGTTTTTCAAACACGTGCAGG TGTTTAATAGGG CTGAA ATGTCAA AA TC TATGAGTGTGACATACC ATTGGTGCAGG ATATGCGC AGTTATCAGACTCA ACTAATTC            ACGTAGTGT GC AGTCAATC AT ATTGCCTACACTATGTCACTTGGTGCAGAAAATTCAGTTGCTTA TCTAATAACTCTATTGCCA ACC ACAAATTTTACTATTAGTGT ACC   GAAATTCTACC GTGTCTAT       ACATC GTAGA TGTACAATGTA ATTTGTGGTGATTCAACTGA TGCAGCAA CTTTTGTTGCAATATGG AGTTTTTG ACACAATTAAA C TGCTTTAACTGGAATAGCTGTTGAAC  GACAAAAA AC CAAGAAGTTTTTGC CAAGT AAA                                                                   CATCA A C  AGC   AGGTCATTTATTGA GA  TAC TTTCAA AAAGTGACACTTGC GATGCTGGCTTCATCAAACAATATGGTGATTGCCTTGGTGATAT  CTGCTA                                                                                 C                                                                                   TGGC          AATGGTATTG    TACACAGAATGTTCTCTATGAGAACCAAAA TTGATTGCCA CCA TTTAATA TG TATTGGCAAAATTCAAGACTCACTTTCTTC ACA CAAGTGCACTTGG    CTTCAAGATGT GT                                                                                                                                     ATCACA GCAG                             AACAATTAATTAGAGCTGCAGAAA                                                                                                                                      TTGCATGTGAC TATGTCCCTGCACAAGAAAAGAACTTCACAAC                                          TGAAGGTGT TT GTTTCAAATGGCACACACTGGTTTGT AC CAAAGGAATTTTTATGAA                                                  TGTAATAGGAATTGTCA    CACAGTTTATGATC                                                                                       T TCTGGCATTAATGCT                      AAATTGACCGCCTCAATGAGGTTGCCAA AAT TAAATGAATCTCTCAT GATCT       CTTGGAAAGTATGA CAG    TAAAATGG                                                                                                          GTTCTTG GGATC TGCTGCAAATTTGATGAA ACGACTCTGAGCCAGTGCTCAAA GAGTCAAATTACATTACACATAA'"
      ]
     },
     "execution_count": 204,
     "metadata": {},
     "output_type": "execute_result"
    }
   ],
   "source": [
    "''.join(tmp)"
   ]
  },
  {
   "cell_type": "code",
   "execution_count": 205,
   "metadata": {},
   "outputs": [],
   "source": [
    "align_seq = list(t.seq)\n",
    "for i in range(len(align_annot)):\n",
    "    if align_annot[i] != '*':\n",
    "        align_seq[i] = '-'"
   ]
  },
  {
   "cell_type": "code",
   "execution_count": 206,
   "metadata": {},
   "outputs": [
    {
     "data": {
      "text/plain": [
       "'ATGTTTGTTTTT-TTG-TTTA-TGCCACTAGT-TCTAGTCA-TGTGTTAATCT-ACAAC-AGAACTCA-TTA---CCTGCA-A--C-AA-TC-T-CAC-CGTGGTGT-T----------------------ATC-TCAGTTTTA-ATT-AACTCAGGA-T--TT--TACCTTTCTT-TCCAATGT-AC----------------------T--GGGAC----GGTA-TAA-AG-TTTGATAACCC-GT-CT-CCATT-AA-GATGG-GT-TA-TT-GCTTCCACTGAGAAGTCTAA-AT--------G-TGGATTTTTGGTACTAC-------------------TC--TACTTATTGTTAATAACGCTACTAATG-TGTTATTAAAGTCTGTGA-TTTCAATTTTGTAATGATCCATTTTTGGG-----------------------------------------------------------------------------------------------------------------------------------------------------------------------------------------------------------------------------------------------------------------------------------------------------------------------------------------------------------------------------------------------------------------------------------------------------------------------------------------------------------------------------------------------------------------------------GATT----------ACAAAC----G-CCTTTTGGTGAAGTTTTTAAC-CCACCA-ATT-GCATC-GTTTATGCTTGGAACAG-AAGAGAAT-AGCAACTGTGTTGCTGATTA-TCT-TC--ATATAATTCC-C--------C-AC-TTTAA-TGTTATGGAG------------------------------------------------------------------------------------------------------------T------------TTATAAA-TACCAG-TGAT----------------------------------------------------------------------------------------------------------------------------------------------------------------------------------------------------------------------------------------------------------------------------------------------------------A-AAGTCTACTAA-TTGGTTAAAAA-AAATGTGTCAATTT-AACTT-AATGGTTTAA--GGCACAGGTGT-CT-AC-GA----AA-AAAAAGT---------------------------------------CTACTGATGC-GTCCGTGATCCACAGACACTTGAGATTCTTGACATTACACCATGTT-TTTTGGTGGTGTCAGTGTTATAACACC-GGAACAAAT-C-TCTAACCAGGTTGCTGTTCTTTATCAGG-TGTTAACTGCACAGAAGTCCCTGTTGCTAT-CATGCAGA-CAACTTACTCC-ACTTGGCGTGTTTA-TC-ACAGGTTCTAATGTTTTTCAAACACGTGCAGG-TGTTTAATAGGG-CTGAA-ATGTCAA-AA-TC-TATGAGTGTGACATACC-ATTGGTGCAGG-ATATGCGC-AGTTATCAGACTCA-ACTAATTC------------ACGTAGTGT-GC-AGTCAATC-AT-ATTGCCTACACTATGTCACTTGGTGCAGAAAATTCAGTTGCTTA-TCTAATAACTCTATTGCCA-ACC-ACAAATTTTACTATTAGTGT-ACC---GAAATTCTACC-GTGTCTAT-------ACATC-GTAGA-TGTACAATGTA-ATTTGTGGTGATTCAACTGA-TGCAGCAA-CTTTTGTTGCAATATGG-AGTTTTTG-ACACAATTAAA-C-TGCTTTAACTGGAATAGCTGTTGAAC--GACAAAAA-AC-CAAGAAGTTTTTGC-CAAGT-AAA-------------------------------------------------------------------CATCA-A-C--AGC---AGGTCATTTATTGA-GA--TAC-TTTCAA-AAAGTGACACTTGC-GATGCTGGCTTCATCAAACAATATGGTGATTGCCTTGGTGATAT--CTGCTA---------------------------------------------------------------------------------C-----------------------------------------------------------------------------------TGGC----------AATGGTATTG----TACACAGAATGTTCTCTATGAGAACCAAAA-TTGATTGCCA-CCA-TTTAATA-TG-TATTGGCAAAATTCAAGACTCACTTTCTTC-ACA-CAAGTGCACTTGG----CTTCAAGATGT-GT-------------------------------------------------------------------------------------------------------------------------------------ATCACA-GCAG-----------------------------AACAATTAATTAGAGCTGCAGAAA--------------------------------------------------------------------------------------------------------------------------------------TTGCATGTGAC-TATGTCCCTGCACAAGAAAAGAACTTCACAAC------------------------------------------TGAAGGTGT-TT-GTTTCAAATGGCACACACTGGTTTGT-AC-CAAAGGAATTTTTATGAA--------------------------------------------------TGTAATAGGAATTGTCA----CACAGTTTATGATC---------------------------------------------------------------------------------------T-TCTGGCATTAATGCT----------------------AAATTGACCGCCTCAATGAGGTTGCCAA-AAT-TAAATGAATCTCTCAT-GATCT-------CTTGGAAAGTATGA-CAG----TAAAATGG----------------------------------------------------------------------------------------------------------GTTCTTG-GGATC-TGCTGCAAATTTGATGAA-ACGACTCTGAGCCAGTGCTCAAA-GAGTCAAATTACATTACACATAA'"
      ]
     },
     "execution_count": 206,
     "metadata": {},
     "output_type": "execute_result"
    }
   ],
   "source": [
    "''.join(align_seq)"
   ]
  },
  {
   "cell_type": "code",
   "execution_count": 5,
   "metadata": {},
   "outputs": [
    {
     "name": "stdout",
     "output_type": "stream",
     "text": [
      "annotated-00.aln\n",
      "annotated-01.aln\n",
      "annotated-02.aln\n",
      "annotated-03.aln\n",
      "annotated-04.aln\n",
      "annotated-05.aln\n",
      "annotated-06.aln\n",
      "annotated-07.aln\n",
      "annotated-08.aln\n",
      "annotated-09.aln\n",
      "annotated-10.aln\n",
      "annotated-11.aln\n",
      "annotated-12.aln\n",
      "annotated-13.aln\n",
      "annotated-14.aln\n",
      "annotated-15.aln\n",
      "annotated-16.aln\n",
      "annotated-17.aln\n",
      "annotated-18.aln\n",
      "annotated-19.aln\n",
      "annotated-20.aln\n",
      "annotated-21.aln\n",
      "annotated-22.aln\n"
     ]
    }
   ],
   "source": [
    "annotated = []\n",
    "for i in range(23):\n",
    "    fname = 'annotated-{:02d}.aln'.format(i)\n",
    "    print(fname)\n",
    "    align = AlignIO.read(fname, 'clustal')\n",
    "    align_annot = align.column_annotations['clustal_consensus']\n",
    "    t = align[0]\n",
    "    tmp = list(t.seq)\n",
    "    align_seq = list(t.seq)\n",
    "    for i in range(len(align_annot)):\n",
    "        if align_annot[i] != '*':\n",
    "            tmp[i] = ' '\n",
    "            align_seq[i] = '-'\n",
    "    annotated.append(SeqRecord(Seq(''.join(align_seq)), t.id, '', ''))"
   ]
  },
  {
   "cell_type": "code",
   "execution_count": 6,
   "metadata": {},
   "outputs": [
    {
     "data": {
      "text/plain": [
       "23"
      ]
     },
     "execution_count": 6,
     "metadata": {},
     "output_type": "execute_result"
    }
   ],
   "source": [
    "SeqIO.write(annotated, 'tmp.fasta', 'fasta')"
   ]
  },
  {
   "cell_type": "code",
   "execution_count": 7,
   "metadata": {},
   "outputs": [],
   "source": [
    "align_cmd = ClustalwCommandline('clustalw2', infile = 'tmp.fasta')\n",
    "align_stdout, align_stderr = align_cmd()"
   ]
  },
  {
   "cell_type": "code",
   "execution_count": 8,
   "metadata": {},
   "outputs": [],
   "source": [
    "align = AlignIO.read(fname, 'clustal')\n",
    "align_annot = align.column_annotations['clustal_consensus']\n",
    "t = align[0]\n",
    "tmp = list(t.seq)\n",
    "align_seq = list(t.seq)\n",
    "for i in range(len(align_annot)):\n",
    "    if align_annot[i] != '*':\n",
    "        tmp[i] = ' '\n",
    "        align_seq[i] = '-'\n",
    "tmp = ''.join(tmp)"
   ]
  },
  {
   "cell_type": "code",
   "execution_count": 9,
   "metadata": {},
   "outputs": [],
   "source": [
    "result = [t for t in tmp.split() if len(t) >= 15]"
   ]
  },
  {
   "cell_type": "code",
   "execution_count": 10,
   "metadata": {},
   "outputs": [
    {
     "data": {
      "text/plain": [
       "33"
      ]
     },
     "execution_count": 10,
     "metadata": {},
     "output_type": "execute_result"
    }
   ],
   "source": [
    "len(result)"
   ]
  },
  {
   "cell_type": "code",
   "execution_count": 11,
   "metadata": {},
   "outputs": [
    {
     "data": {
      "text/plain": [
       "['AAAGTTTTCAGATCCTCAGTTTTACATTCAACTCAGGACTT',\n",
       " 'CTACCATTTAATGATGGTGTTTATTTTGCTTCCACTGAGAAGTCTAACATAATAAGAGGCTGGATTTTTGGTACTACT',\n",
       " 'TAGATTCGAAGACCCAGTCCCTACTTATTGTTAATAACGCTACTAATGTTGTTATTAAAGTCTGTG',\n",
       " 'AACAACAAAAGTTGGAT',\n",
       " 'GAGTTTATTCTAGTGCGAATAATTGCACTTTTGAATATGTCTCTCAGCCTTTTCTTATGGACCTTGAAG',\n",
       " 'AAAACAGGGTAATTTCAAAAATCTTAGGGAATTTGTGTTTAAGAATATTGATGGT',\n",
       " 'TAGATTTCCTAATATTACAAACTTGTGCCCTTTTGGTGAAGTTTTTAACGCCACCAGATTTGCATCTGTTTATGCTTGGAA',\n",
       " 'TTATAATTATAAATTACCAGATGATTTTACAGGCTG',\n",
       " 'GTTATAGCTTGGAATTCT',\n",
       " 'AATTTGGTTAAAAACAAATGTGTCAATTTCAACT',\n",
       " 'TTCCAACAATTTGGCAGAGACATTGCTGACACTACTGATGCTGTCCGTGATCCACAGACACTTGA',\n",
       " 'ATTCTTGACATTACACCATGTTCTTTTGGTGGTGTCAGTGTTATAACACCAGGAACAAATACTTCTAACCAGGTTGCTGTTCTTTATCAGG',\n",
       " 'TGTTAACTGCACAGAAGTCCCT',\n",
       " 'TTATTCTACAGGTTCTAATGTTTTTCAAACACGT',\n",
       " 'AATCTTTTGTTGCAATATGGCAGTT',\n",
       " 'CGTGCTTTAACTGGAATAGCTGTTGAACAAGACAAAAACACCCAAGAAGTTTTTGCACAAGTCAAACAAATTTACAAAACACCACCAATTAA',\n",
       " 'TTTAATTTTTCACAAATATTACCAGATCCATCAAAACCAAGCAAGAGGTCATTTATTGAAGATCTACTTTTCAA',\n",
       " 'AAAGTGACACTTGCAGATGCTGGCTTCATCAAACAATATG',\n",
       " 'TGATTGCCTTGGTGATATTGCTGCTAGAGACCTCATTTGTGCACAAAAGTTTAA',\n",
       " 'GGCCTTACTGTTTTGCCACCTTTGCTCACAGATGAAATGATTGCTCAATACACTTCTGCACTGTTA',\n",
       " 'CGGGTACAATCACTTCTGGTTGGACCTTTGGTGCAGGTGCTGCATTACAAATACCATTTGCTATGCAAATGGCTTATAGGTTTAATGGTATTGGAGTTACACAGAATGTTCT',\n",
       " 'TATGAGAACCAAAAATTGATTGCCAACCAATTTAATAGTGCTATTGGCAAAATTCAAGACTCACTTT',\n",
       " 'TTCCACAGCAAGTGCACTTGGAAAACTTCAAGATGTGGTCAACCAAAATGCACAAGCTTTAAACA',\n",
       " 'ACAGGCAGACTTCAAAGTTTGCAGACATATGTGACTCAACAATTAATTAGAGCTGCAGAAATCAGAGCTTCTGCTAATCTTGCTGCTACTAAAATGTCAGAGTGTGTACTTGGACAATCAAAAAGAGTTGATTTTTGTGG',\n",
       " 'AAGGGCTATCATCTTATGTCCTTCCCTCAGTCAGCACCTCATGGTGTAGTCTTCTTGCATGTGACTTATGTCCCTGCACAAGAAAAGAACTTCACAACTG',\n",
       " 'CTGCCATTTGTCATGATGGAAAAGCACACTTTCCTC',\n",
       " 'TGAAGGTGTCTTTGTTTCAAATGGCAC',\n",
       " 'CACTGGTTTGTAACACAAAGGAATTTTTATGAACCACAAATCATTACTACAGACAACACATTTGTGTCTGGTAACTGTGATGTTGTAATAGGAATTGTCAACAACACAGTTTATGATCC',\n",
       " 'TGAATTAGACTCATTCAAGGAGGAGTTAGATAAATATTTTAAGAATCATACATCA',\n",
       " 'CAGATGTTGATTTAGGTGACATCTCTGGCATTAATGCTTCAGTTGTAAACATTCAAAAAGAAATTGACCGCCTCAA',\n",
       " 'GTTGCCAAGAATTTAAATGAATCTCTCATCGATCTCCAAGAACTTGGAAAGTATGAGCAGTATATAAAATGGCCATGGTACATTTGGCTAGGTTTTATAGCTGGCTTGAT',\n",
       " 'TAATGGTGACAATTATGCTTTGCTGTATGACCAGTTGCTGTAGTTGTCTCAAGGGCTGTTGTTCTTGTGGATCCTGCTGCAAATTTGATGAAGACGACTCTGAGC',\n",
       " 'AGTGCTCAAAGGAGTCAAATTACATTACACATAA']"
      ]
     },
     "execution_count": 11,
     "metadata": {},
     "output_type": "execute_result"
    }
   ],
   "source": [
    "result"
   ]
  },
  {
   "cell_type": "code",
   "execution_count": 12,
   "metadata": {},
   "outputs": [
    {
     "data": {
      "text/plain": [
       "33"
      ]
     },
     "execution_count": 12,
     "metadata": {},
     "output_type": "execute_result"
    }
   ],
   "source": [
    "cand_seq = []\n",
    "counter = 0\n",
    "for cl in result:\n",
    "    cand_seq.append(SeqRecord(Seq(cl), 'candidate-seq-{:06d}'.format(counter), '', ''))\n",
    "    counter += 1\n",
    "    \n",
    "SeqIO.write(cand_seq, 'cand_seq.fasta', 'fasta')"
   ]
  },
  {
   "cell_type": "code",
   "execution_count": null,
   "metadata": {},
   "outputs": [],
   "source": []
  }
 ],
 "metadata": {
  "kernelspec": {
   "display_name": "Python 3",
   "language": "python",
   "name": "python3"
  },
  "language_info": {
   "codemirror_mode": {
    "name": "ipython",
    "version": 3
   },
   "file_extension": ".py",
   "mimetype": "text/x-python",
   "name": "python",
   "nbconvert_exporter": "python",
   "pygments_lexer": "ipython3",
   "version": "3.8.2"
  }
 },
 "nbformat": 4,
 "nbformat_minor": 4
}
